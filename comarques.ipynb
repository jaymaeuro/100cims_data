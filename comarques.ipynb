{
 "cells": [
  {
   "cell_type": "markdown",
   "source": [
    "# GeoJSON polígons\n",
    "Codi per generar els GeoJSON de les vegueries i les comarques rellevants per al repte."
   ],
   "metadata": {
    "collapsed": false,
    "pycharm": {
     "name": "#%% md\n"
    }
   }
  },
  {
   "cell_type": "code",
   "execution_count": 1,
   "outputs": [],
   "source": [
    "import json\n",
    "import geopandas as gpd\n",
    "import pandas as pd\n",
    "import numpy as np"
   ],
   "metadata": {
    "collapsed": false,
    "pycharm": {
     "name": "#%%\n"
    }
   }
  },
  {
   "cell_type": "code",
   "execution_count": 161,
   "outputs": [],
   "source": [
    "## Nombre de comarques que surten al repte\n",
    "\n",
    "TOTAL_COMARQUES = ['Alt Camp', 'Noguera', 'Baix Camp', 'Barcelonès', 'Priorat', 'Baix Ebre', 'Segrià', \"Ribera d'Ebre\", \"Pla d'Urgell\", 'Alt Penedès', 'Gironès', 'Vallès Occidental', 'Terra Alta', 'Osona', 'Baix Penedès', 'Montsià', 'Pallars Jussà', 'Baix Llobregat', 'Bages', \"Pla de l'Estany\", 'Anoia', 'Garrigues', 'Alt Empordà', 'Alt Urgell', 'Vallès Oriental', 'Segarra', 'Moianès', 'Vallespir', 'Ripollès', 'Berguedà', 'Maresme', 'Cerdanya', 'Alta Cerdanya', 'Tarragonès', 'Garrotxa', 'Alta Ribagorça', 'Solsonès', \"Aran\", 'Conflent', 'Andorra', 'Garraf', 'Baix Empordà', 'Conca de Barberà', 'Rosselló', 'Urgell', 'Selva', 'Pallars Sobirà', 'Capcir']"
   ],
   "metadata": {
    "collapsed": false,
    "pycharm": {
     "name": "#%%\n"
    }
   }
  },
  {
   "cell_type": "markdown",
   "source": [
    "## Importació del GeoJSON de municipis\n",
    "S'eliminen les columnes que no interessen."
   ],
   "metadata": {
    "collapsed": false,
    "pycharm": {
     "name": "#%% md\n"
    }
   }
  },
  {
   "cell_type": "code",
   "execution_count": 27,
   "outputs": [
    {
     "data": {
      "text/plain": "     vegueria territori     comarca  \\\n0      Ponent       CAT   Garrigues   \n1      Ponent       CAT   Garrigues   \n2      Ponent       CAT   Garrigues   \n3      Ponent       CAT   Garrigues   \n4      Ponent       CAT   Garrigues   \n...       ...       ...         ...   \n1320   Ponent    FRANJA  La Llitera   \n1321   Ponent    FRANJA  La Llitera   \n1322   Ponent    FRANJA  La Llitera   \n1323   Ponent    FRANJA  La Llitera   \n1324   Ponent    FRANJA  La Llitera   \n\n                                               geometry  \n0     POLYGON ((0.88503 41.44265, 0.88726 41.43778, ...  \n1     POLYGON ((0.95157 41.35193, 0.95232 41.35767, ...  \n2     POLYGON ((0.92870 41.46173, 0.91468 41.46485, ...  \n3     POLYGON ((0.81071 41.51845, 0.80361 41.52047, ...  \n4     POLYGON ((0.76766 41.33399, 0.74101 41.35421, ...  \n...                                                 ...  \n1320  POLYGON ((0.35647 41.89048, 0.35652 41.89074, ...  \n1321  POLYGON ((0.31412 41.68997, 0.31417 41.69070, ...  \n1322  POLYGON ((0.31244 42.06176, 0.31409 42.06371, ...  \n1323  POLYGON ((0.50910 41.91186, 0.50969 41.91215, ...  \n1324  POLYGON ((0.32229 41.81947, 0.32473 41.81984, ...  \n\n[1325 rows x 4 columns]",
      "text/html": "<div>\n<style scoped>\n    .dataframe tbody tr th:only-of-type {\n        vertical-align: middle;\n    }\n\n    .dataframe tbody tr th {\n        vertical-align: top;\n    }\n\n    .dataframe thead th {\n        text-align: right;\n    }\n</style>\n<table border=\"1\" class=\"dataframe\">\n  <thead>\n    <tr style=\"text-align: right;\">\n      <th></th>\n      <th>vegueria</th>\n      <th>territori</th>\n      <th>comarca</th>\n      <th>geometry</th>\n    </tr>\n  </thead>\n  <tbody>\n    <tr>\n      <th>0</th>\n      <td>Ponent</td>\n      <td>CAT</td>\n      <td>Garrigues</td>\n      <td>POLYGON ((0.88503 41.44265, 0.88726 41.43778, ...</td>\n    </tr>\n    <tr>\n      <th>1</th>\n      <td>Ponent</td>\n      <td>CAT</td>\n      <td>Garrigues</td>\n      <td>POLYGON ((0.95157 41.35193, 0.95232 41.35767, ...</td>\n    </tr>\n    <tr>\n      <th>2</th>\n      <td>Ponent</td>\n      <td>CAT</td>\n      <td>Garrigues</td>\n      <td>POLYGON ((0.92870 41.46173, 0.91468 41.46485, ...</td>\n    </tr>\n    <tr>\n      <th>3</th>\n      <td>Ponent</td>\n      <td>CAT</td>\n      <td>Garrigues</td>\n      <td>POLYGON ((0.81071 41.51845, 0.80361 41.52047, ...</td>\n    </tr>\n    <tr>\n      <th>4</th>\n      <td>Ponent</td>\n      <td>CAT</td>\n      <td>Garrigues</td>\n      <td>POLYGON ((0.76766 41.33399, 0.74101 41.35421, ...</td>\n    </tr>\n    <tr>\n      <th>...</th>\n      <td>...</td>\n      <td>...</td>\n      <td>...</td>\n      <td>...</td>\n    </tr>\n    <tr>\n      <th>1320</th>\n      <td>Ponent</td>\n      <td>FRANJA</td>\n      <td>La Llitera</td>\n      <td>POLYGON ((0.35647 41.89048, 0.35652 41.89074, ...</td>\n    </tr>\n    <tr>\n      <th>1321</th>\n      <td>Ponent</td>\n      <td>FRANJA</td>\n      <td>La Llitera</td>\n      <td>POLYGON ((0.31412 41.68997, 0.31417 41.69070, ...</td>\n    </tr>\n    <tr>\n      <th>1322</th>\n      <td>Ponent</td>\n      <td>FRANJA</td>\n      <td>La Llitera</td>\n      <td>POLYGON ((0.31244 42.06176, 0.31409 42.06371, ...</td>\n    </tr>\n    <tr>\n      <th>1323</th>\n      <td>Ponent</td>\n      <td>FRANJA</td>\n      <td>La Llitera</td>\n      <td>POLYGON ((0.50910 41.91186, 0.50969 41.91215, ...</td>\n    </tr>\n    <tr>\n      <th>1324</th>\n      <td>Ponent</td>\n      <td>FRANJA</td>\n      <td>La Llitera</td>\n      <td>POLYGON ((0.32229 41.81947, 0.32473 41.81984, ...</td>\n    </tr>\n  </tbody>\n</table>\n<p>1325 rows × 4 columns</p>\n</div>"
     },
     "execution_count": 27,
     "metadata": {},
     "output_type": "execute_result"
    }
   ],
   "source": [
    "df = gpd.read_file(\"municipis_Cat_And_CN_Franja.geojson\").drop(columns=[\"extrude\", \"cartodb_id\", \"visibility\", \"codi\", \"municipi\", \"OGR\", \"OGR_STYLE\", \"tessellate\"])\n",
    "df"
   ],
   "metadata": {
    "collapsed": false,
    "pycharm": {
     "name": "#%%\n"
    }
   }
  },
  {
   "cell_type": "markdown",
   "source": [
    "## GeoJSON comarques\n",
    "S'importa un CSV amb el nom de les comarques i el seu codi identificatiu."
   ],
   "metadata": {
    "collapsed": false,
    "pycharm": {
     "name": "#%% md\n"
    }
   }
  },
  {
   "cell_type": "code",
   "execution_count": 158,
   "outputs": [
    {
     "data": {
      "text/plain": "     Codi            comarca\n0       1           Alt Camp\n24      2        Alt Empordà\n93      3        Alt Penedès\n121     4         Alt Urgell\n141     5     Alta Ribagorça\n145     6              Anoia\n179     7              Bages\n210     8          Baix Camp\n239     9          Baix Ebre\n254    10       Baix Empordà\n291    11     Baix Llobregat\n322    12       Baix Penedès\n337    13         Barcelonès\n343    14           Berguedà\n375    15           Cerdanya\n393    16   Conca de Barberà\n416    17             Garraf\n423    18          Garrigues\n448    19           Garrotxa\n470    20            Gironès\n498    21            Maresme\n529    22            Montsià\n542    23            Noguera\n573    24              Osona\n624    25      Pallars Jussà\n639    26     Pallars Sobirà\n655    27       Pla d'Urgell\n672    28    Pla de l'Estany\n684    29            Priorat\n708    30      Ribera d'Ebre\n723    31           Ripollès\n743    32            Segarra\n765    33             Segrià\n804    34              Selva\n831    35           Solsonès\n847    36         Tarragonès\n870    37         Terra Alta\n883    38             Urgell\n904    39               Aran\n914    40  Vallès Occidental\n938    41    Vallès Oriental\n978    42            Moianès",
      "text/html": "<div>\n<style scoped>\n    .dataframe tbody tr th:only-of-type {\n        vertical-align: middle;\n    }\n\n    .dataframe tbody tr th {\n        vertical-align: top;\n    }\n\n    .dataframe thead th {\n        text-align: right;\n    }\n</style>\n<table border=\"1\" class=\"dataframe\">\n  <thead>\n    <tr style=\"text-align: right;\">\n      <th></th>\n      <th>Codi</th>\n      <th>comarca</th>\n    </tr>\n  </thead>\n  <tbody>\n    <tr>\n      <th>0</th>\n      <td>1</td>\n      <td>Alt Camp</td>\n    </tr>\n    <tr>\n      <th>24</th>\n      <td>2</td>\n      <td>Alt Empordà</td>\n    </tr>\n    <tr>\n      <th>93</th>\n      <td>3</td>\n      <td>Alt Penedès</td>\n    </tr>\n    <tr>\n      <th>121</th>\n      <td>4</td>\n      <td>Alt Urgell</td>\n    </tr>\n    <tr>\n      <th>141</th>\n      <td>5</td>\n      <td>Alta Ribagorça</td>\n    </tr>\n    <tr>\n      <th>145</th>\n      <td>6</td>\n      <td>Anoia</td>\n    </tr>\n    <tr>\n      <th>179</th>\n      <td>7</td>\n      <td>Bages</td>\n    </tr>\n    <tr>\n      <th>210</th>\n      <td>8</td>\n      <td>Baix Camp</td>\n    </tr>\n    <tr>\n      <th>239</th>\n      <td>9</td>\n      <td>Baix Ebre</td>\n    </tr>\n    <tr>\n      <th>254</th>\n      <td>10</td>\n      <td>Baix Empordà</td>\n    </tr>\n    <tr>\n      <th>291</th>\n      <td>11</td>\n      <td>Baix Llobregat</td>\n    </tr>\n    <tr>\n      <th>322</th>\n      <td>12</td>\n      <td>Baix Penedès</td>\n    </tr>\n    <tr>\n      <th>337</th>\n      <td>13</td>\n      <td>Barcelonès</td>\n    </tr>\n    <tr>\n      <th>343</th>\n      <td>14</td>\n      <td>Berguedà</td>\n    </tr>\n    <tr>\n      <th>375</th>\n      <td>15</td>\n      <td>Cerdanya</td>\n    </tr>\n    <tr>\n      <th>393</th>\n      <td>16</td>\n      <td>Conca de Barberà</td>\n    </tr>\n    <tr>\n      <th>416</th>\n      <td>17</td>\n      <td>Garraf</td>\n    </tr>\n    <tr>\n      <th>423</th>\n      <td>18</td>\n      <td>Garrigues</td>\n    </tr>\n    <tr>\n      <th>448</th>\n      <td>19</td>\n      <td>Garrotxa</td>\n    </tr>\n    <tr>\n      <th>470</th>\n      <td>20</td>\n      <td>Gironès</td>\n    </tr>\n    <tr>\n      <th>498</th>\n      <td>21</td>\n      <td>Maresme</td>\n    </tr>\n    <tr>\n      <th>529</th>\n      <td>22</td>\n      <td>Montsià</td>\n    </tr>\n    <tr>\n      <th>542</th>\n      <td>23</td>\n      <td>Noguera</td>\n    </tr>\n    <tr>\n      <th>573</th>\n      <td>24</td>\n      <td>Osona</td>\n    </tr>\n    <tr>\n      <th>624</th>\n      <td>25</td>\n      <td>Pallars Jussà</td>\n    </tr>\n    <tr>\n      <th>639</th>\n      <td>26</td>\n      <td>Pallars Sobirà</td>\n    </tr>\n    <tr>\n      <th>655</th>\n      <td>27</td>\n      <td>Pla d'Urgell</td>\n    </tr>\n    <tr>\n      <th>672</th>\n      <td>28</td>\n      <td>Pla de l'Estany</td>\n    </tr>\n    <tr>\n      <th>684</th>\n      <td>29</td>\n      <td>Priorat</td>\n    </tr>\n    <tr>\n      <th>708</th>\n      <td>30</td>\n      <td>Ribera d'Ebre</td>\n    </tr>\n    <tr>\n      <th>723</th>\n      <td>31</td>\n      <td>Ripollès</td>\n    </tr>\n    <tr>\n      <th>743</th>\n      <td>32</td>\n      <td>Segarra</td>\n    </tr>\n    <tr>\n      <th>765</th>\n      <td>33</td>\n      <td>Segrià</td>\n    </tr>\n    <tr>\n      <th>804</th>\n      <td>34</td>\n      <td>Selva</td>\n    </tr>\n    <tr>\n      <th>831</th>\n      <td>35</td>\n      <td>Solsonès</td>\n    </tr>\n    <tr>\n      <th>847</th>\n      <td>36</td>\n      <td>Tarragonès</td>\n    </tr>\n    <tr>\n      <th>870</th>\n      <td>37</td>\n      <td>Terra Alta</td>\n    </tr>\n    <tr>\n      <th>883</th>\n      <td>38</td>\n      <td>Urgell</td>\n    </tr>\n    <tr>\n      <th>904</th>\n      <td>39</td>\n      <td>Aran</td>\n    </tr>\n    <tr>\n      <th>914</th>\n      <td>40</td>\n      <td>Vallès Occidental</td>\n    </tr>\n    <tr>\n      <th>938</th>\n      <td>41</td>\n      <td>Vallès Oriental</td>\n    </tr>\n    <tr>\n      <th>978</th>\n      <td>42</td>\n      <td>Moianès</td>\n    </tr>\n  </tbody>\n</table>\n</div>"
     },
     "execution_count": 158,
     "metadata": {},
     "output_type": "execute_result"
    }
   ],
   "source": [
    "comarques_id = pd.read_csv(\"comarques_codi.csv\").drop(columns=[\"Unnamed: 3\"])\n",
    "comarques_id = comarques_id[(comarques_id[\"Nivell\"] == \"Comarca\") | (comarques_id[\"Nivell\"] == \"Ent. terr. sing.\")].drop(columns=[\"Nivell\"]).rename(columns={\"Nom\": \"comarca\"})\n",
    "comarques_id"
   ],
   "metadata": {
    "collapsed": false,
    "pycharm": {
     "name": "#%%\n"
    }
   }
  },
  {
   "cell_type": "markdown",
   "source": [
    "Es fusionen els polígons municipals per obtenir els polígons de comarca. Després, es filtren les comarques segons si es troben a `TOTAL_COMARQUES` i se'ls hi afegeix la id de comarca."
   ],
   "metadata": {
    "collapsed": false,
    "pycharm": {
     "name": "#%% md\n"
    }
   }
  },
  {
   "cell_type": "code",
   "execution_count": 162,
   "outputs": [
    {
     "data": {
      "text/plain": "              comarca territori_id  \\\n0            Alt Camp          CAT   \n1         Alt Empordà          CAT   \n2         Alt Penedès          CAT   \n3          Alt Urgell          CAT   \n4      Alta Ribagorça          CAT   \n5      Alta Ribagorça       FRANJA   \n6             Andorra          AND   \n7               Anoia          CAT   \n8                Aran          CAT   \n9               Bages          CAT   \n10          Baix Camp          CAT   \n12          Baix Ebre          CAT   \n13       Baix Empordà          CAT   \n14     Baix Llobregat          CAT   \n16       Baix Penedès          CAT   \n18         Barcelonès          CAT   \n19           Berguedà          CAT   \n20             Capcir         NORD   \n21           Cerdanya          CAT   \n22           Cerdanya         NORD   \n23   Conca de Barberà          CAT   \n24           Conflent         NORD   \n26             Garraf          CAT   \n27          Garrigues          CAT   \n28           Garrotxa          CAT   \n29            Gironès          CAT   \n31            Maresme          CAT   \n33            Moianès          CAT   \n34            Montsià          CAT   \n35            Noguera          CAT   \n36              Osona          CAT   \n37      Pallars Jussà          CAT   \n38     Pallars Sobirà          CAT   \n39       Pla d'Urgell          CAT   \n40    Pla de l'Estany          CAT   \n41            Priorat          CAT   \n42      Ribera d'Ebre          CAT   \n43           Ripollès          CAT   \n44           Rosselló         NORD   \n45            Segarra          CAT   \n46             Segrià          CAT   \n47              Selva          CAT   \n48           Solsonès          CAT   \n49         Tarragonès          CAT   \n50         Terra Alta          CAT   \n51             Urgell          CAT   \n53          Vallespir         NORD   \n54  Vallès Occidental          CAT   \n55    Vallès Oriental          CAT   \n\n                                             geometry             vegueria  \\\n0   POLYGON ((1.23226 41.21750, 1.22732 41.21876, ...                 Camp   \n1   POLYGON ((2.89860 42.12038, 2.90117 42.13878, ...          Costa Brava   \n2   POLYGON ((1.62169 41.22335, 1.60414 41.23419, ...              Penedès   \n3   MULTIPOLYGON (((1.31784 41.98191, 1.31277 41.9...            Alt Segre   \n4   POLYGON ((0.87384 42.29883, 0.84891 42.31363, ...  Ribagorça i Pallars   \n5   POLYGON ((0.44056 42.34615, 0.44112 42.34648, ...  Ribagorça i Pallars   \n6   POLYGON ((1.55703 42.45394, 1.55970 42.44832, ...            Alt Segre   \n7   POLYGON ((1.46873 41.44372, 1.48561 41.46080, ...              Penedès   \n8   POLYGON ((0.67298 42.71891, 0.68001 42.72318, ...                 Aran   \n9   POLYGON ((1.80571 41.60474, 1.78646 41.61234, ...            Llobregat   \n10  POLYGON ((0.90418 40.97738, 0.89925 40.97578, ...                 Camp   \n12  POLYGON ((0.44214 40.73675, 0.41273 40.74076, ...                 Ebre   \n13  POLYGON ((3.07437 41.82202, 3.06887 41.81485, ...          Costa Brava   \n14  POLYGON ((1.97543 41.26384, 1.95749 41.26399, ...            Barcelona   \n16  MULTIPOLYGON (((1.49608 41.17321, 1.48328 41.1...              Penedès   \n18  MULTIPOLYGON (((2.09539 41.34296, 2.08921 41.3...            Barcelona   \n19  MULTIPOLYGON (((1.84793 41.91561, 1.84566 41.8...            Llobregat   \n20  POLYGON ((2.12643 42.55468, 2.12777 42.55383, ...            Alt Segre   \n21  MULTIPOLYGON (((1.67132 42.28036, 1.66250 42.2...            Alt Segre   \n22  POLYGON ((2.02289 42.35500, 2.02223 42.35446, ...            Alt Segre   \n23  POLYGON ((1.12448 41.30513, 1.10753 41.30814, ...                 Camp   \n24  POLYGON ((2.32950 42.42636, 2.32761 42.42596, ...       Catalunya Nord   \n26  POLYGON ((1.64134 41.21161, 1.64652 41.20863, ...              Penedès   \n27  POLYGON ((0.63708 41.29790, 0.62856 41.29141, ...               Ponent   \n28  POLYGON ((2.49055 42.06841, 2.48269 42.06751, ...         Ter-Garrotxa   \n29  POLYGON ((2.81341 41.87121, 2.80994 41.87782, ...          Costa Brava   \n31  POLYGON ((2.25467 41.49232, 2.26314 41.50413, ...              Maresme   \n33  POLYGON ((2.04966 41.71130, 2.03609 41.71706, ...               Vallès   \n34  POLYGON ((0.53786 40.56706, 0.53376 40.55612, ...                 Ebre   \n35  POLYGON ((0.70257 41.69974, 0.69264 41.69521, ...               Ponent   \n36  MULTIPOLYGON (((2.26388 41.79651, 2.24673 41.7...         Ter-Garrotxa   \n37  MULTIPOLYGON (((0.74821 42.04458, 0.74201 42.0...  Ribagorça i Pallars   \n38  POLYGON ((0.95631 42.32537, 0.95442 42.33242, ...  Ribagorça i Pallars   \n39  MULTIPOLYGON (((0.87772 41.58585, 0.87267 41.5...               Ponent   \n40  POLYGON ((2.73213 42.08602, 2.72345 42.08659, ...          Costa Brava   \n41  POLYGON ((0.75210 41.08557, 0.74933 41.09154, ...                 Camp   \n42  POLYGON ((0.65417 40.94292, 0.61592 40.93127, ...                 Ebre   \n43  MULTIPOLYGON (((2.02568 42.13046, 2.03194 42.1...         Ter-Garrotxa   \n44  POLYGON ((2.60892 42.50150, 2.60028 42.50138, ...       Catalunya Nord   \n45  POLYGON ((1.18535 41.59701, 1.17820 41.59588, ...               Ponent   \n46  MULTIPOLYGON (((0.52548 41.28990, 0.51834 41.2...               Ponent   \n47  POLYGON ((2.57246 41.72607, 2.54725 41.71931, ...          Costa Brava   \n48  MULTIPOLYGON (((1.59267 41.78057, 1.59431 41.7...            Llobregat   \n49  POLYGON ((1.15614 41.06514, 1.14911 41.06747, ...                 Camp   \n50  POLYGON ((0.27989 40.82032, 0.26127 40.83687, ...                 Ebre   \n51  MULTIPOLYGON (((1.01126 41.51192, 0.98667 41.5...               Ponent   \n53  POLYGON ((2.55217 42.34332, 2.54968 42.34067, ...       Catalunya Nord   \n54  POLYGON ((2.06404 41.44205, 2.06111 41.44492, ...               Vallès   \n55  POLYGON ((2.22478 41.49240, 2.22322 41.49598, ...               Vallès   \n\n    comarca_id       territori  \n0            1       Catalunya  \n1            2       Catalunya  \n2            3       Catalunya  \n3            4       Catalunya  \n4            5       Catalunya  \n5            5       La Franja  \n6            0         Andorra  \n7            6       Catalunya  \n8           39       Catalunya  \n9            7       Catalunya  \n10           8       Catalunya  \n12           9       Catalunya  \n13          10       Catalunya  \n14          11       Catalunya  \n16          12       Catalunya  \n18          13       Catalunya  \n19          14       Catalunya  \n20           0  Catalunya Nord  \n21          15       Catalunya  \n22          15  Catalunya Nord  \n23          16       Catalunya  \n24           0  Catalunya Nord  \n26          17       Catalunya  \n27          18       Catalunya  \n28          19       Catalunya  \n29          20       Catalunya  \n31          21       Catalunya  \n33          42       Catalunya  \n34          22       Catalunya  \n35          23       Catalunya  \n36          24       Catalunya  \n37          25       Catalunya  \n38          26       Catalunya  \n39          27       Catalunya  \n40          28       Catalunya  \n41          29       Catalunya  \n42          30       Catalunya  \n43          31       Catalunya  \n44           0  Catalunya Nord  \n45          32       Catalunya  \n46          33       Catalunya  \n47          34       Catalunya  \n48          35       Catalunya  \n49          36       Catalunya  \n50          37       Catalunya  \n51          38       Catalunya  \n53           0  Catalunya Nord  \n54          40       Catalunya  \n55          41       Catalunya  ",
      "text/html": "<div>\n<style scoped>\n    .dataframe tbody tr th:only-of-type {\n        vertical-align: middle;\n    }\n\n    .dataframe tbody tr th {\n        vertical-align: top;\n    }\n\n    .dataframe thead th {\n        text-align: right;\n    }\n</style>\n<table border=\"1\" class=\"dataframe\">\n  <thead>\n    <tr style=\"text-align: right;\">\n      <th></th>\n      <th>comarca</th>\n      <th>territori_id</th>\n      <th>geometry</th>\n      <th>vegueria</th>\n      <th>comarca_id</th>\n      <th>territori</th>\n    </tr>\n  </thead>\n  <tbody>\n    <tr>\n      <th>0</th>\n      <td>Alt Camp</td>\n      <td>CAT</td>\n      <td>POLYGON ((1.23226 41.21750, 1.22732 41.21876, ...</td>\n      <td>Camp</td>\n      <td>1</td>\n      <td>Catalunya</td>\n    </tr>\n    <tr>\n      <th>1</th>\n      <td>Alt Empordà</td>\n      <td>CAT</td>\n      <td>POLYGON ((2.89860 42.12038, 2.90117 42.13878, ...</td>\n      <td>Costa Brava</td>\n      <td>2</td>\n      <td>Catalunya</td>\n    </tr>\n    <tr>\n      <th>2</th>\n      <td>Alt Penedès</td>\n      <td>CAT</td>\n      <td>POLYGON ((1.62169 41.22335, 1.60414 41.23419, ...</td>\n      <td>Penedès</td>\n      <td>3</td>\n      <td>Catalunya</td>\n    </tr>\n    <tr>\n      <th>3</th>\n      <td>Alt Urgell</td>\n      <td>CAT</td>\n      <td>MULTIPOLYGON (((1.31784 41.98191, 1.31277 41.9...</td>\n      <td>Alt Segre</td>\n      <td>4</td>\n      <td>Catalunya</td>\n    </tr>\n    <tr>\n      <th>4</th>\n      <td>Alta Ribagorça</td>\n      <td>CAT</td>\n      <td>POLYGON ((0.87384 42.29883, 0.84891 42.31363, ...</td>\n      <td>Ribagorça i Pallars</td>\n      <td>5</td>\n      <td>Catalunya</td>\n    </tr>\n    <tr>\n      <th>5</th>\n      <td>Alta Ribagorça</td>\n      <td>FRANJA</td>\n      <td>POLYGON ((0.44056 42.34615, 0.44112 42.34648, ...</td>\n      <td>Ribagorça i Pallars</td>\n      <td>5</td>\n      <td>La Franja</td>\n    </tr>\n    <tr>\n      <th>6</th>\n      <td>Andorra</td>\n      <td>AND</td>\n      <td>POLYGON ((1.55703 42.45394, 1.55970 42.44832, ...</td>\n      <td>Alt Segre</td>\n      <td>0</td>\n      <td>Andorra</td>\n    </tr>\n    <tr>\n      <th>7</th>\n      <td>Anoia</td>\n      <td>CAT</td>\n      <td>POLYGON ((1.46873 41.44372, 1.48561 41.46080, ...</td>\n      <td>Penedès</td>\n      <td>6</td>\n      <td>Catalunya</td>\n    </tr>\n    <tr>\n      <th>8</th>\n      <td>Aran</td>\n      <td>CAT</td>\n      <td>POLYGON ((0.67298 42.71891, 0.68001 42.72318, ...</td>\n      <td>Aran</td>\n      <td>39</td>\n      <td>Catalunya</td>\n    </tr>\n    <tr>\n      <th>9</th>\n      <td>Bages</td>\n      <td>CAT</td>\n      <td>POLYGON ((1.80571 41.60474, 1.78646 41.61234, ...</td>\n      <td>Llobregat</td>\n      <td>7</td>\n      <td>Catalunya</td>\n    </tr>\n    <tr>\n      <th>10</th>\n      <td>Baix Camp</td>\n      <td>CAT</td>\n      <td>POLYGON ((0.90418 40.97738, 0.89925 40.97578, ...</td>\n      <td>Camp</td>\n      <td>8</td>\n      <td>Catalunya</td>\n    </tr>\n    <tr>\n      <th>12</th>\n      <td>Baix Ebre</td>\n      <td>CAT</td>\n      <td>POLYGON ((0.44214 40.73675, 0.41273 40.74076, ...</td>\n      <td>Ebre</td>\n      <td>9</td>\n      <td>Catalunya</td>\n    </tr>\n    <tr>\n      <th>13</th>\n      <td>Baix Empordà</td>\n      <td>CAT</td>\n      <td>POLYGON ((3.07437 41.82202, 3.06887 41.81485, ...</td>\n      <td>Costa Brava</td>\n      <td>10</td>\n      <td>Catalunya</td>\n    </tr>\n    <tr>\n      <th>14</th>\n      <td>Baix Llobregat</td>\n      <td>CAT</td>\n      <td>POLYGON ((1.97543 41.26384, 1.95749 41.26399, ...</td>\n      <td>Barcelona</td>\n      <td>11</td>\n      <td>Catalunya</td>\n    </tr>\n    <tr>\n      <th>16</th>\n      <td>Baix Penedès</td>\n      <td>CAT</td>\n      <td>MULTIPOLYGON (((1.49608 41.17321, 1.48328 41.1...</td>\n      <td>Penedès</td>\n      <td>12</td>\n      <td>Catalunya</td>\n    </tr>\n    <tr>\n      <th>18</th>\n      <td>Barcelonès</td>\n      <td>CAT</td>\n      <td>MULTIPOLYGON (((2.09539 41.34296, 2.08921 41.3...</td>\n      <td>Barcelona</td>\n      <td>13</td>\n      <td>Catalunya</td>\n    </tr>\n    <tr>\n      <th>19</th>\n      <td>Berguedà</td>\n      <td>CAT</td>\n      <td>MULTIPOLYGON (((1.84793 41.91561, 1.84566 41.8...</td>\n      <td>Llobregat</td>\n      <td>14</td>\n      <td>Catalunya</td>\n    </tr>\n    <tr>\n      <th>20</th>\n      <td>Capcir</td>\n      <td>NORD</td>\n      <td>POLYGON ((2.12643 42.55468, 2.12777 42.55383, ...</td>\n      <td>Alt Segre</td>\n      <td>0</td>\n      <td>Catalunya Nord</td>\n    </tr>\n    <tr>\n      <th>21</th>\n      <td>Cerdanya</td>\n      <td>CAT</td>\n      <td>MULTIPOLYGON (((1.67132 42.28036, 1.66250 42.2...</td>\n      <td>Alt Segre</td>\n      <td>15</td>\n      <td>Catalunya</td>\n    </tr>\n    <tr>\n      <th>22</th>\n      <td>Cerdanya</td>\n      <td>NORD</td>\n      <td>POLYGON ((2.02289 42.35500, 2.02223 42.35446, ...</td>\n      <td>Alt Segre</td>\n      <td>15</td>\n      <td>Catalunya Nord</td>\n    </tr>\n    <tr>\n      <th>23</th>\n      <td>Conca de Barberà</td>\n      <td>CAT</td>\n      <td>POLYGON ((1.12448 41.30513, 1.10753 41.30814, ...</td>\n      <td>Camp</td>\n      <td>16</td>\n      <td>Catalunya</td>\n    </tr>\n    <tr>\n      <th>24</th>\n      <td>Conflent</td>\n      <td>NORD</td>\n      <td>POLYGON ((2.32950 42.42636, 2.32761 42.42596, ...</td>\n      <td>Catalunya Nord</td>\n      <td>0</td>\n      <td>Catalunya Nord</td>\n    </tr>\n    <tr>\n      <th>26</th>\n      <td>Garraf</td>\n      <td>CAT</td>\n      <td>POLYGON ((1.64134 41.21161, 1.64652 41.20863, ...</td>\n      <td>Penedès</td>\n      <td>17</td>\n      <td>Catalunya</td>\n    </tr>\n    <tr>\n      <th>27</th>\n      <td>Garrigues</td>\n      <td>CAT</td>\n      <td>POLYGON ((0.63708 41.29790, 0.62856 41.29141, ...</td>\n      <td>Ponent</td>\n      <td>18</td>\n      <td>Catalunya</td>\n    </tr>\n    <tr>\n      <th>28</th>\n      <td>Garrotxa</td>\n      <td>CAT</td>\n      <td>POLYGON ((2.49055 42.06841, 2.48269 42.06751, ...</td>\n      <td>Ter-Garrotxa</td>\n      <td>19</td>\n      <td>Catalunya</td>\n    </tr>\n    <tr>\n      <th>29</th>\n      <td>Gironès</td>\n      <td>CAT</td>\n      <td>POLYGON ((2.81341 41.87121, 2.80994 41.87782, ...</td>\n      <td>Costa Brava</td>\n      <td>20</td>\n      <td>Catalunya</td>\n    </tr>\n    <tr>\n      <th>31</th>\n      <td>Maresme</td>\n      <td>CAT</td>\n      <td>POLYGON ((2.25467 41.49232, 2.26314 41.50413, ...</td>\n      <td>Maresme</td>\n      <td>21</td>\n      <td>Catalunya</td>\n    </tr>\n    <tr>\n      <th>33</th>\n      <td>Moianès</td>\n      <td>CAT</td>\n      <td>POLYGON ((2.04966 41.71130, 2.03609 41.71706, ...</td>\n      <td>Vallès</td>\n      <td>42</td>\n      <td>Catalunya</td>\n    </tr>\n    <tr>\n      <th>34</th>\n      <td>Montsià</td>\n      <td>CAT</td>\n      <td>POLYGON ((0.53786 40.56706, 0.53376 40.55612, ...</td>\n      <td>Ebre</td>\n      <td>22</td>\n      <td>Catalunya</td>\n    </tr>\n    <tr>\n      <th>35</th>\n      <td>Noguera</td>\n      <td>CAT</td>\n      <td>POLYGON ((0.70257 41.69974, 0.69264 41.69521, ...</td>\n      <td>Ponent</td>\n      <td>23</td>\n      <td>Catalunya</td>\n    </tr>\n    <tr>\n      <th>36</th>\n      <td>Osona</td>\n      <td>CAT</td>\n      <td>MULTIPOLYGON (((2.26388 41.79651, 2.24673 41.7...</td>\n      <td>Ter-Garrotxa</td>\n      <td>24</td>\n      <td>Catalunya</td>\n    </tr>\n    <tr>\n      <th>37</th>\n      <td>Pallars Jussà</td>\n      <td>CAT</td>\n      <td>MULTIPOLYGON (((0.74821 42.04458, 0.74201 42.0...</td>\n      <td>Ribagorça i Pallars</td>\n      <td>25</td>\n      <td>Catalunya</td>\n    </tr>\n    <tr>\n      <th>38</th>\n      <td>Pallars Sobirà</td>\n      <td>CAT</td>\n      <td>POLYGON ((0.95631 42.32537, 0.95442 42.33242, ...</td>\n      <td>Ribagorça i Pallars</td>\n      <td>26</td>\n      <td>Catalunya</td>\n    </tr>\n    <tr>\n      <th>39</th>\n      <td>Pla d'Urgell</td>\n      <td>CAT</td>\n      <td>MULTIPOLYGON (((0.87772 41.58585, 0.87267 41.5...</td>\n      <td>Ponent</td>\n      <td>27</td>\n      <td>Catalunya</td>\n    </tr>\n    <tr>\n      <th>40</th>\n      <td>Pla de l'Estany</td>\n      <td>CAT</td>\n      <td>POLYGON ((2.73213 42.08602, 2.72345 42.08659, ...</td>\n      <td>Costa Brava</td>\n      <td>28</td>\n      <td>Catalunya</td>\n    </tr>\n    <tr>\n      <th>41</th>\n      <td>Priorat</td>\n      <td>CAT</td>\n      <td>POLYGON ((0.75210 41.08557, 0.74933 41.09154, ...</td>\n      <td>Camp</td>\n      <td>29</td>\n      <td>Catalunya</td>\n    </tr>\n    <tr>\n      <th>42</th>\n      <td>Ribera d'Ebre</td>\n      <td>CAT</td>\n      <td>POLYGON ((0.65417 40.94292, 0.61592 40.93127, ...</td>\n      <td>Ebre</td>\n      <td>30</td>\n      <td>Catalunya</td>\n    </tr>\n    <tr>\n      <th>43</th>\n      <td>Ripollès</td>\n      <td>CAT</td>\n      <td>MULTIPOLYGON (((2.02568 42.13046, 2.03194 42.1...</td>\n      <td>Ter-Garrotxa</td>\n      <td>31</td>\n      <td>Catalunya</td>\n    </tr>\n    <tr>\n      <th>44</th>\n      <td>Rosselló</td>\n      <td>NORD</td>\n      <td>POLYGON ((2.60892 42.50150, 2.60028 42.50138, ...</td>\n      <td>Catalunya Nord</td>\n      <td>0</td>\n      <td>Catalunya Nord</td>\n    </tr>\n    <tr>\n      <th>45</th>\n      <td>Segarra</td>\n      <td>CAT</td>\n      <td>POLYGON ((1.18535 41.59701, 1.17820 41.59588, ...</td>\n      <td>Ponent</td>\n      <td>32</td>\n      <td>Catalunya</td>\n    </tr>\n    <tr>\n      <th>46</th>\n      <td>Segrià</td>\n      <td>CAT</td>\n      <td>MULTIPOLYGON (((0.52548 41.28990, 0.51834 41.2...</td>\n      <td>Ponent</td>\n      <td>33</td>\n      <td>Catalunya</td>\n    </tr>\n    <tr>\n      <th>47</th>\n      <td>Selva</td>\n      <td>CAT</td>\n      <td>POLYGON ((2.57246 41.72607, 2.54725 41.71931, ...</td>\n      <td>Costa Brava</td>\n      <td>34</td>\n      <td>Catalunya</td>\n    </tr>\n    <tr>\n      <th>48</th>\n      <td>Solsonès</td>\n      <td>CAT</td>\n      <td>MULTIPOLYGON (((1.59267 41.78057, 1.59431 41.7...</td>\n      <td>Llobregat</td>\n      <td>35</td>\n      <td>Catalunya</td>\n    </tr>\n    <tr>\n      <th>49</th>\n      <td>Tarragonès</td>\n      <td>CAT</td>\n      <td>POLYGON ((1.15614 41.06514, 1.14911 41.06747, ...</td>\n      <td>Camp</td>\n      <td>36</td>\n      <td>Catalunya</td>\n    </tr>\n    <tr>\n      <th>50</th>\n      <td>Terra Alta</td>\n      <td>CAT</td>\n      <td>POLYGON ((0.27989 40.82032, 0.26127 40.83687, ...</td>\n      <td>Ebre</td>\n      <td>37</td>\n      <td>Catalunya</td>\n    </tr>\n    <tr>\n      <th>51</th>\n      <td>Urgell</td>\n      <td>CAT</td>\n      <td>MULTIPOLYGON (((1.01126 41.51192, 0.98667 41.5...</td>\n      <td>Ponent</td>\n      <td>38</td>\n      <td>Catalunya</td>\n    </tr>\n    <tr>\n      <th>53</th>\n      <td>Vallespir</td>\n      <td>NORD</td>\n      <td>POLYGON ((2.55217 42.34332, 2.54968 42.34067, ...</td>\n      <td>Catalunya Nord</td>\n      <td>0</td>\n      <td>Catalunya Nord</td>\n    </tr>\n    <tr>\n      <th>54</th>\n      <td>Vallès Occidental</td>\n      <td>CAT</td>\n      <td>POLYGON ((2.06404 41.44205, 2.06111 41.44492, ...</td>\n      <td>Vallès</td>\n      <td>40</td>\n      <td>Catalunya</td>\n    </tr>\n    <tr>\n      <th>55</th>\n      <td>Vallès Oriental</td>\n      <td>CAT</td>\n      <td>POLYGON ((2.22478 41.49240, 2.22322 41.49598, ...</td>\n      <td>Vallès</td>\n      <td>41</td>\n      <td>Catalunya</td>\n    </tr>\n  </tbody>\n</table>\n</div>"
     },
     "execution_count": 162,
     "metadata": {},
     "output_type": "execute_result"
    }
   ],
   "source": [
    "comarques = df.dissolve(by=[\"comarca\", \"territori\"]).reset_index().rename(columns={\"territori\": 'territori_id'})\n",
    "comarques = pd.merge(comarques, comarques_id, on=\"comarca\", how=\"outer\").rename(columns={\"Codi\": \"comarca_id\"})\n",
    "comarques[\"comarca_id\"] = comarques[\"comarca_id\"].fillna(0).astype(\"int\")\n",
    "conditions = [(comarques[\"territori_id\"] == \"CAT\"), (comarques[\"territori_id\"] == \"AND\"), (comarques[\"territori_id\"] == \"FRANJA\"), (comarques[\"territori_id\"] == \"NORD\")]\n",
    "values = [\"Catalunya\", \"Andorra\", \"La Franja\", \"Catalunya Nord\"]\n",
    "comarques[\"territori\"] = np.select(conditions, values)\n",
    "comarques = comarques[comarques[\"comarca\"].isin(TOTAL_COMARQUES)]\n",
    "\n",
    "comarques"
   ],
   "metadata": {
    "collapsed": false,
    "pycharm": {
     "name": "#%%\n"
    }
   }
  },
  {
   "cell_type": "markdown",
   "source": [
    "S'exporta en format GeoJSON. **Les comarques que no són de Catalunya (Cat. Nord i Andorra) tenen una id de 0, que després es canvia manualment al GeoJSON afegint números a partir de 42.** L'id assignat és arbitrari però es farà servir en totes les operacions internes de l'app, de manera que ha de ser consistent."
   ],
   "metadata": {
    "collapsed": false,
    "pycharm": {
     "name": "#%% md\n"
    }
   }
  },
  {
   "cell_type": "code",
   "execution_count": 163,
   "outputs": [],
   "source": [
    "with open(\"comarques_parsed.geojson\", \"w\") as f:\n",
    "    f.write(comarques.to_json(drop_id=True))"
   ],
   "metadata": {
    "collapsed": false,
    "pycharm": {
     "name": "#%%\n"
    }
   }
  },
  {
   "cell_type": "markdown",
   "source": [
    "## GeoJSON vegueries\n",
    "Es duu a terme el mateix procés que amb les comarques però agrupant per vegueries. Es crea un id aleatori del 0 al 13 i s'exporta com a GeoJSON."
   ],
   "metadata": {
    "collapsed": false,
    "pycharm": {
     "name": "#%% md\n"
    }
   }
  },
  {
   "cell_type": "code",
   "execution_count": 67,
   "outputs": [
    {
     "data": {
      "text/plain": "    vegueria_id             vegueria  \\\n0             1                 Aran   \n1             2            Barcelona   \n2             3                 Camp   \n3             5          Costa Brava   \n4             6                 Ebre   \n5             7            Llobregat   \n6             8              Maresme   \n7             9              Penedès   \n8            10               Ponent   \n9            12         Ter-Garrotxa   \n10           13               Vallès   \n11           11  Ribagorça i Pallars   \n12            0            Alt Segre   \n13            4       Catalunya Nord   \n\n                                             geometry territori  \n0   POLYGON ((0.67298 42.71891, 0.68001 42.72318, ...       CAT  \n1   POLYGON ((1.93724 41.27449, 1.94296 41.28029, ...       CAT  \n2   POLYGON ((0.89084 40.96679, 0.88082 40.95995, ...       CAT  \n3   POLYGON ((2.61409 41.69234, 2.59962 41.68386, ...       CAT  \n4   POLYGON ((0.11519 40.72326, 0.11055 40.72288, ...       CAT  \n5   POLYGON ((1.43094 41.62940, 1.42176 41.63465, ...       CAT  \n6   POLYGON ((2.29713 41.47249, 2.29586 41.47515, ...       CAT  \n7   POLYGON ((1.47643 41.20892, 1.47448 41.21888, ...       CAT  \n8   POLYGON ((0.36815 41.29529, 0.36819 41.29462, ...       CAT  \n9   MULTIPOLYGON (((2.07477 41.90002, 2.06436 41.9...       CAT  \n10  POLYGON ((2.03284 41.44163, 2.02406 41.45126, ...       CAT  \n11  POLYGON ((0.68366 42.08991, 0.68357 42.08865, ...    FRANJA  \n12  MULTIPOLYGON (((1.19351 41.93940, 1.19298 41.9...      NORD  \n13  POLYGON ((2.46753 42.35892, 2.45954 42.36463, ...      NORD  ",
      "text/html": "<div>\n<style scoped>\n    .dataframe tbody tr th:only-of-type {\n        vertical-align: middle;\n    }\n\n    .dataframe tbody tr th {\n        vertical-align: top;\n    }\n\n    .dataframe thead th {\n        text-align: right;\n    }\n</style>\n<table border=\"1\" class=\"dataframe\">\n  <thead>\n    <tr style=\"text-align: right;\">\n      <th></th>\n      <th>vegueria_id</th>\n      <th>vegueria</th>\n      <th>geometry</th>\n      <th>territori</th>\n    </tr>\n  </thead>\n  <tbody>\n    <tr>\n      <th>0</th>\n      <td>1</td>\n      <td>Aran</td>\n      <td>POLYGON ((0.67298 42.71891, 0.68001 42.72318, ...</td>\n      <td>CAT</td>\n    </tr>\n    <tr>\n      <th>1</th>\n      <td>2</td>\n      <td>Barcelona</td>\n      <td>POLYGON ((1.93724 41.27449, 1.94296 41.28029, ...</td>\n      <td>CAT</td>\n    </tr>\n    <tr>\n      <th>2</th>\n      <td>3</td>\n      <td>Camp</td>\n      <td>POLYGON ((0.89084 40.96679, 0.88082 40.95995, ...</td>\n      <td>CAT</td>\n    </tr>\n    <tr>\n      <th>3</th>\n      <td>5</td>\n      <td>Costa Brava</td>\n      <td>POLYGON ((2.61409 41.69234, 2.59962 41.68386, ...</td>\n      <td>CAT</td>\n    </tr>\n    <tr>\n      <th>4</th>\n      <td>6</td>\n      <td>Ebre</td>\n      <td>POLYGON ((0.11519 40.72326, 0.11055 40.72288, ...</td>\n      <td>CAT</td>\n    </tr>\n    <tr>\n      <th>5</th>\n      <td>7</td>\n      <td>Llobregat</td>\n      <td>POLYGON ((1.43094 41.62940, 1.42176 41.63465, ...</td>\n      <td>CAT</td>\n    </tr>\n    <tr>\n      <th>6</th>\n      <td>8</td>\n      <td>Maresme</td>\n      <td>POLYGON ((2.29713 41.47249, 2.29586 41.47515, ...</td>\n      <td>CAT</td>\n    </tr>\n    <tr>\n      <th>7</th>\n      <td>9</td>\n      <td>Penedès</td>\n      <td>POLYGON ((1.47643 41.20892, 1.47448 41.21888, ...</td>\n      <td>CAT</td>\n    </tr>\n    <tr>\n      <th>8</th>\n      <td>10</td>\n      <td>Ponent</td>\n      <td>POLYGON ((0.36815 41.29529, 0.36819 41.29462, ...</td>\n      <td>CAT</td>\n    </tr>\n    <tr>\n      <th>9</th>\n      <td>12</td>\n      <td>Ter-Garrotxa</td>\n      <td>MULTIPOLYGON (((2.07477 41.90002, 2.06436 41.9...</td>\n      <td>CAT</td>\n    </tr>\n    <tr>\n      <th>10</th>\n      <td>13</td>\n      <td>Vallès</td>\n      <td>POLYGON ((2.03284 41.44163, 2.02406 41.45126, ...</td>\n      <td>CAT</td>\n    </tr>\n    <tr>\n      <th>11</th>\n      <td>11</td>\n      <td>Ribagorça i Pallars</td>\n      <td>POLYGON ((0.68366 42.08991, 0.68357 42.08865, ...</td>\n      <td>FRANJA</td>\n    </tr>\n    <tr>\n      <th>12</th>\n      <td>0</td>\n      <td>Alt Segre</td>\n      <td>MULTIPOLYGON (((1.19351 41.93940, 1.19298 41.9...</td>\n      <td>NORD</td>\n    </tr>\n    <tr>\n      <th>13</th>\n      <td>4</td>\n      <td>Catalunya Nord</td>\n      <td>POLYGON ((2.46753 42.35892, 2.45954 42.36463, ...</td>\n      <td>NORD</td>\n    </tr>\n  </tbody>\n</table>\n</div>"
     },
     "execution_count": 67,
     "metadata": {},
     "output_type": "execute_result"
    }
   ],
   "source": [
    "vegueries = df.dissolve(by=\"vegueria\").reset_index().sort_values(by=[\"territori\", \"vegueria\"]).reset_index().rename(\n",
    "    columns={\"index\": \"vegueria_id\"}).drop(columns=[\"comarca\"])\n",
    "vegueries"
   ],
   "metadata": {
    "collapsed": false,
    "pycharm": {
     "name": "#%%\n"
    }
   }
  },
  {
   "cell_type": "code",
   "execution_count": 85,
   "outputs": [],
   "source": [
    "with open(\"vegueries.geojson\", \"w\") as f:\n",
    "    f.write(vegueries.to_json(drop_id=True))"
   ],
   "metadata": {
    "collapsed": false,
    "pycharm": {
     "name": "#%%\n"
    }
   }
  },
  {
   "cell_type": "code",
   "execution_count": 182,
   "outputs": [],
   "source": [
    "## S'actualitza el GeoJSON de comarques per incloure l'id de les vegueries.\n",
    "\n",
    "comarques = gpd.read_file(\"comarques_parsed.geojson\")\n",
    "comarques = pd.merge(comarques, vegueries, on=[\"vegueria\"], how=\"outer\").drop(columns=[\"geometry_y\", \"territori_y\"]).rename(columns={\"territori_x\": \"territori\", \"geometry_x\": \"geometry\"})\n",
    "with open(\"comarques_parsed.geojson\", \"w\") as f:\n",
    "    f.write(comarques.to_json(drop_id=True))"
   ],
   "metadata": {
    "collapsed": false,
    "pycharm": {
     "name": "#%%\n"
    }
   }
  },
  {
   "cell_type": "markdown",
   "source": [
    "## 100 cims topo\n",
    "S'afegeix la informació topogràfica (territori, vegueria, comarca) al JSON de 100 cims."
   ],
   "metadata": {
    "collapsed": false,
    "pycharm": {
     "name": "#%% md\n"
    }
   }
  },
  {
   "cell_type": "code",
   "execution_count": 183,
   "outputs": [],
   "source": [
    "cent_cims_df = pd.read_json(\"100cims.json\")\n",
    "\n",
    "comarques_cent_cims = cent_cims_df[\"comarca\"].to_list()\n",
    "\n",
    "cent_cims_df[\"territory\"] = [[comarques[comarques[\"comarca\"] == item][\"territori\"].iloc[0] for item in comarca] for comarca in comarques_cent_cims]\n",
    "cent_cims_df[\"territory_id\"] = [[comarques[comarques[\"comarca\"] == item][\"territori_id\"].iloc[0] for item in comarca] for comarca in comarques_cent_cims]\n",
    "cent_cims_df[\"comarca_id\"] = [[comarques[comarques[\"comarca\"] == item][\"comarca_id\"].iloc[0] for item in comarca] for comarca in comarques_cent_cims]\n",
    "cent_cims_df[\"vegueria\"] = [[comarques[comarques[\"comarca\"] == item][\"vegueria\"].iloc[0] for item in comarca] for comarca in comarques_cent_cims]\n",
    "cent_cims_df[\"vegueria\"] = [[comarques[comarques[\"comarca\"] == item][\"vegueria\"].iloc[0] for item in comarca] for comarca in comarques_cent_cims]\n",
    "cent_cims_df[\"vegueria_id\"] = [[comarques[comarques[\"comarca\"] == item][\"vegueria_id\"].iloc[0] for item in comarca] for comarca in comarques_cent_cims]"
   ],
   "metadata": {
    "collapsed": false,
    "pycharm": {
     "name": "#%%\n"
    }
   }
  },
  {
   "cell_type": "code",
   "execution_count": 204,
   "outputs": [],
   "source": [
    "cent_cims_df.to_json(\"100cims_2.json\", orient=\"records\")"
   ],
   "metadata": {
    "collapsed": false,
    "pycharm": {
     "name": "#%%\n"
    }
   }
  },
  {
   "cell_type": "code",
   "execution_count": 141,
   "outputs": [
    {
     "data": {
      "text/plain": "[['Alt Camp'],\n ['Conflent', 'Vallespir'],\n ['Rosselló'],\n ['Alta Cerdanya'],\n ['Conflent'],\n ['Alta Cerdanya'],\n ['Capcir', 'Alta Cerdanya'],\n ['Conflent'],\n ['Alta Cerdanya', 'Conflent'],\n ['Andorra'],\n ['Andorra'],\n ['Andorra'],\n ['Vallès Oriental'],\n ['Andorra', 'Alta Cerdanya'],\n ['Vallès Occidental'],\n ['Vallès Oriental'],\n ['Andorra'],\n ['Alta Cerdanya', 'Ripollès'],\n ['Vallès Occidental'],\n ['Solsonès'],\n ['Vallès Occidental'],\n ['Selva', 'Vallès Oriental'],\n [\"Val d'Aran\"],\n [\"Val d'Aran\"],\n [\"Val d'Aran\"],\n [\"Val d'Aran\"],\n ['Segrià'],\n ['Urgell'],\n ['Vallès Occidental'],\n ['Solsonès'],\n ['Terra Alta'],\n ['Selva'],\n ['Terra Alta'],\n ['Ripollès'],\n ['Segarra'],\n [\"Val d'Aran\"],\n [\"Val d'Aran\"],\n ['Selva'],\n ['Ripollès'],\n ['Conflent', 'Ripollès'],\n ['Ripollès'],\n ['Ripollès', 'Vallespir'],\n [\"Pla d'Urgell\"],\n [\"Ribera d'Ebre\"],\n [\"Ribera d'Ebre\"],\n [\"Ribera d'Ebre\"],\n ['Priorat'],\n [\"Pla de l'Estany\"],\n ['Pallars Sobirà'],\n ['Pallars Sobirà', \"Val d'Aran\"],\n ['Pallars Sobirà'],\n ['Pallars Sobirà'],\n ['Pallars Sobirà'],\n ['Pallars Sobirà'],\n ['Pallars Sobirà'],\n ['Pallars Sobirà'],\n ['Pallars Sobirà'],\n ['Pallars Sobirà'],\n ['Pallars Jussà'],\n ['Pallars Sobirà'],\n ['Pallars Jussà', 'Pallars Sobirà'],\n ['Osona'],\n ['Pallars Jussà'],\n ['Osona', 'Ripollès'],\n ['Osona'],\n ['Osona', 'Vallès Oriental'],\n ['Pallars Jussà', 'Pallars Sobirà'],\n ['Pallars Jussà', 'Pallars Sobirà'],\n ['Pallars Jussà'],\n ['Pallars Jussà'],\n ['Osona'],\n ['Garrotxa', 'Osona'],\n ['Maresme'],\n ['Gironès'],\n ['Garrotxa', 'Vallespir'],\n ['Gironès'],\n ['Garrigues'],\n ['Cerdanya'],\n ['Cerdanya'],\n ['Maresme'],\n ['Noguera'],\n ['Noguera', 'Pallars Jussà'],\n ['Garrotxa', 'Ripollès'],\n ['Cerdanya', 'Alta Cerdanya'],\n ['Garrotxa'],\n ['Conca de Barberà', 'Garrigues'],\n ['Noguera'],\n ['Conca de Barberà'],\n ['Montsià'],\n ['Andorra', 'Cerdanya'],\n ['Noguera', 'Pallars Jussà'],\n ['Montsià'],\n ['Conca de Barberà', 'Urgell'],\n ['Berguedà'],\n ['Berguedà'],\n ['Berguedà', 'Cerdanya'],\n ['Baix Penedès', 'Tarragonès'],\n ['Berguedà', 'Cerdanya'],\n ['Berguedà', 'Cerdanya'],\n ['Berguedà'],\n ['Barcelonès', 'Vallès Occidental'],\n ['Baix Llobregat', 'Vallès Occidental'],\n ['Baix Penedès'],\n ['Barcelonès', 'Vallès Occidental'],\n ['Baix Ebre'],\n ['Baix Empordà'],\n ['Baix Camp'],\n ['Bages'],\n ['Baix Llobregat'],\n ['Baix Camp', 'Conca de Barberà'],\n ['Baix Camp'],\n ['Baix Camp', \"Ribera d'Ebre\"],\n ['Baix Camp'],\n ['Bages', 'Vallès Occidental'],\n ['Baix Camp'],\n ['Moianès'],\n ['Bages'],\n ['Baix Llobregat', 'Barcelonès'],\n ['Baix Llobregat'],\n ['Baix Ebre', 'Terra Alta'],\n ['Baix Camp', 'Conca de Barberà'],\n ['Baix Ebre', \"Ribera d'Ebre\"],\n ['Alta Ribagorça'],\n ['Anoia'],\n ['Alta Ribagorça', 'Pallars Jussà'],\n ['Alta Ribagorça'],\n ['Anoia'],\n ['Alta Ribagorça'],\n ['Anoia', 'Bages'],\n ['Alta Ribagorça'],\n ['Alt Urgell', 'Andorra'],\n ['Alt Urgell', 'Berguedà', 'Solsonès'],\n ['Alt Urgell'],\n ['Alt Urgell'],\n ['Alta Ribagorça', \"Val d'Aran\"],\n ['Alt Urgell', 'Andorra', 'Cerdanya'],\n ['Alt Urgell', 'Pallars Sobirà'],\n ['Alt Penedès', 'Garraf'],\n ['Alt Urgell'],\n ['Alt Urgell'],\n ['Alt Urgell'],\n ['Alt Empordà', 'Garrotxa'],\n ['Alt Empordà'],\n ['Alt Penedès'],\n ['Alt Empordà'],\n ['Alt Camp', 'Conca de Barberà'],\n ['Alt Penedès'],\n ['Alt Empordà', 'Rosselló'],\n ['Alt Empordà', 'Vallespir'],\n ['Alt Camp'],\n ['Vallespir'],\n ['Vallespir'],\n ['Rosselló'],\n ['Rosselló'],\n ['Rosselló'],\n ['Conflent', 'Vallespir'],\n ['Conflent', 'Vallespir'],\n ['Conflent', 'Rosselló'],\n ['Conflent'],\n ['Conflent'],\n ['Conflent'],\n ['Capcir'],\n ['Alta Cerdanya'],\n ['Alta Cerdanya'],\n ['Alta Cerdanya'],\n ['Alta Cerdanya'],\n ['Alta Cerdanya'],\n ['Andorra'],\n ['Andorra'],\n ['Andorra'],\n ['Andorra'],\n ['Andorra'],\n ['Andorra'],\n ['Vallès Oriental'],\n ['Vallès Oriental'],\n ['Vallès Occidental'],\n ['Vallès Occidental'],\n [\"Val d'Aran\"],\n [\"Val d'Aran\"],\n [\"Val d'Aran\"],\n [\"Val d'Aran\"],\n [\"Val d'Aran\"],\n [\"Val d'Aran\"],\n [\"Val d'Aran\"],\n [\"Val d'Aran\"],\n [\"Val d'Aran\"],\n [\"Val d'Aran\"],\n [\"Val d'Aran\"],\n ['Urgell'],\n ['Terra Alta'],\n ['Terra Alta'],\n ['Terra Alta'],\n ['Terra Alta'],\n ['Tarragonès'],\n ['Solsonès'],\n ['Solsonès'],\n ['Solsonès'],\n ['Solsonès'],\n ['Selva'],\n ['Selva'],\n ['Selva'],\n ['Selva'],\n ['Segrià'],\n ['Segarra'],\n ['Conflent', 'Ripollès', 'Vallespir'],\n ['Alta Cerdanya', 'Ripollès'],\n ['Ripollès'],\n ['Ripollès'],\n [\"Ribera d'Ebre\", 'Terra Alta'],\n [\"Ribera d'Ebre\"],\n [\"Ribera d'Ebre\"],\n ['Priorat'],\n ['Priorat'],\n [\"Pla de l'Estany\"],\n ['Andorra', 'Pallars Sobirà'],\n ['Andorra', 'Pallars Sobirà'],\n ['Pallars Sobirà'],\n ['Pallars Sobirà'],\n ['Pallars Sobirà'],\n ['Pallars Sobirà'],\n ['Pallars Sobirà'],\n ['Pallars Sobirà'],\n ['Pallars Sobirà'],\n ['Pallars Sobirà'],\n ['Pallars Sobirà'],\n ['Pallars Sobirà'],\n ['Pallars Sobirà'],\n ['Pallars Sobirà'],\n ['Pallars Sobirà'],\n ['Pallars Sobirà'],\n ['Pallars Sobirà'],\n ['Pallars Sobirà'],\n ['Pallars Sobirà'],\n ['Pallars Sobirà'],\n ['Pallars Sobirà'],\n ['Pallars Sobirà'],\n ['Pallars Sobirà'],\n ['Pallars Sobirà'],\n ['Pallars Sobirà'],\n ['Pallars Jussà', 'Pallars Sobirà'],\n ['Pallars Jussà'],\n ['Pallars Jussà'],\n ['Pallars Jussà'],\n ['Pallars Jussà'],\n ['Pallars Jussà'],\n ['Pallars Jussà'],\n ['Pallars Jussà'],\n ['Pallars Jussà'],\n ['Osona'],\n ['Osona'],\n ['Osona'],\n ['Osona'],\n ['Osona'],\n ['Osona'],\n ['Noguera', 'Pallars Jussà'],\n ['Noguera'],\n ['Noguera'],\n ['Noguera'],\n ['Noguera'],\n ['Noguera'],\n ['Noguera'],\n ['Noguera'],\n ['Noguera'],\n ['Noguera'],\n ['Montsià'],\n ['Montsià'],\n ['Montsià'],\n ['Moianès'],\n ['Maresme'],\n ['Gironès'],\n ['Garrotxa', 'Osona'],\n ['Garrotxa'],\n ['Garrotxa'],\n ['Garrigues', 'Priorat'],\n ['Cerdanya', 'Alta Cerdanya'],\n ['Cerdanya'],\n ['Cerdanya'],\n ['Cerdanya'],\n ['Berguedà', 'Ripollès'],\n ['Berguedà'],\n ['Berguedà'],\n ['Berguedà'],\n ['Berguedà'],\n ['Berguedà'],\n ['Berguedà'],\n ['Berguedà'],\n ['Berguedà'],\n ['Berguedà'],\n ['Berguedà'],\n ['Barcelonès'],\n ['Baix Penedès'],\n ['Baix Llobregat'],\n ['Baix Empordà'],\n ['Baix Empordà'],\n ['Baix Ebre', 'Terra Alta'],\n ['Baix Ebre', 'Terra Alta'],\n ['Baix Ebre', \"Ribera d'Ebre\"],\n ['Baix Ebre', \"Ribera d'Ebre\"],\n ['Baix Ebre', 'Montsià'],\n ['Baix Ebre'],\n ['Baix Ebre'],\n ['Baix Ebre'],\n ['Baix Ebre'],\n ['Baix Camp'],\n ['Baix Camp'],\n ['Baix Camp'],\n ['Baix Camp'],\n ['Baix Camp'],\n ['Bages'],\n ['Bages'],\n ['Bages'],\n ['Bages'],\n ['Anoia', 'Baix Llobregat'],\n ['Anoia'],\n ['Alta Ribagorça', \"Val d'Aran\"],\n ['Alta Ribagorça', \"Val d'Aran\"],\n ['Alta Ribagorça', \"Val d'Aran\"],\n ['Alta Ribagorça', 'Pallars Jussà'],\n ['Alta Ribagorça', 'Pallars Jussà'],\n ['Alta Ribagorça', 'Pallars Jussà'],\n ['Alta Ribagorça'],\n ['Alta Ribagorça'],\n ['Alta Ribagorça'],\n ['Alta Ribagorça'],\n ['Alta Ribagorça'],\n ['Alta Ribagorça'],\n ['Alt Urgell', 'Solsonès'],\n ['Alt Urgell', 'Solsonès'],\n ['Alt Urgell', 'Cerdanya'],\n ['Alt Urgell', 'Berguedà', 'Cerdanya'],\n ['Alt Urgell'],\n ['Alt Urgell'],\n ['Alt Urgell'],\n ['Alt Urgell'],\n ['Alt Urgell'],\n ['Alt Urgell'],\n ['Alt Urgell'],\n ['Alt Urgell'],\n ['Alt Urgell'],\n ['Alt Urgell'],\n ['Alt Urgell'],\n ['Alt Empordà', 'Vallespir'],\n ['Alt Empordà', 'Rosselló'],\n ['Alt Empordà', 'Rosselló'],\n ['Alt Empordà', 'Garrotxa'],\n ['Alt Empordà', 'Baix Empordà'],\n ['Alt Empordà'],\n ['Alt Empordà'],\n ['Alt Empordà'],\n ['Alt Empordà'],\n ['Cerdanya'],\n ['Andorra', 'Cerdanya'],\n ['Andorra'],\n ['Alta Cerdanya'],\n ['Alta Ribagorça'],\n ['Bages'],\n [\"Val d'Aran\"],\n [\"Val d'Aran\"],\n ['Vallespir'],\n ['Baix Ebre', 'Terra Alta'],\n ['Baix Llobregat'],\n ['Baix Camp', \"Ribera d'Ebre\"],\n ['Baix Llobregat'],\n ['Alt Penedès'],\n ['Vallespir'],\n ['Rosselló', 'Vallespir'],\n ['Rosselló'],\n ['Rosselló'],\n ['Rosselló'],\n ['Rosselló'],\n ['Conflent'],\n ['Conflent'],\n ['Conflent', 'Vallespir'],\n ['Conflent'],\n ['Conflent'],\n ['Conflent'],\n ['Conflent'],\n ['Alta Cerdanya'],\n ['Alta Cerdanya'],\n ['Alta Cerdanya'],\n ['Alta Cerdanya'],\n ['Alta Cerdanya'],\n ['Alta Cerdanya'],\n ['Capcir'],\n ['Andorra'],\n ['Andorra'],\n ['Andorra'],\n ['Andorra'],\n ['Andorra'],\n ['Andorra'],\n ['Andorra'],\n ['Andorra'],\n ['Vallès Oriental'],\n ['Vallès Oriental'],\n ['Vallès Occidental'],\n [\"Val d'Aran\"],\n [\"Val d'Aran\"],\n [\"Val d'Aran\"],\n [\"Val d'Aran\"],\n [\"Val d'Aran\"],\n [\"Val d'Aran\"],\n [\"Val d'Aran\"],\n ['Terra Alta'],\n ['Terra Alta'],\n ['Solsonès'],\n ['Solsonès'],\n ['Selva'],\n ['Selva'],\n ['Selva'],\n ['Segrià'],\n ['Segarra'],\n ['Ripollès'],\n ['Ripollès'],\n ['Ripollès'],\n ['Ripollès'],\n ['Ripollès'],\n ['Conflent', 'Ripollès'],\n ['Ripollès'],\n [\"Ribera d'Ebre\"],\n ['Priorat', \"Ribera d'Ebre\"],\n ['Priorat'],\n ['Pallars Sobirà', \"Val d'Aran\"],\n ['Pallars Sobirà'],\n ['Pallars Sobirà'],\n ['Pallars Sobirà'],\n ['Andorra', 'Pallars Sobirà'],\n ['Pallars Sobirà'],\n ['Pallars Sobirà'],\n ['Pallars Sobirà'],\n ['Pallars Sobirà'],\n ['Pallars Jussà', 'Pallars Sobirà'],\n ['Pallars Jussà', 'Pallars Sobirà'],\n ['Pallars Jussà'],\n ['Pallars Jussà'],\n ['Pallars Jussà'],\n ['Moianès'],\n ['Osona', 'Ripollès'],\n ['Osona'],\n ['Osona'],\n ['Osona'],\n ['Osona'],\n ['Noguera', 'Pallars Jussà'],\n ['Noguera'],\n ['Noguera'],\n ['Noguera'],\n ['Noguera'],\n ['Montsià'],\n ['Montsià'],\n ['Maresme'],\n ['Maresme', 'Vallès Oriental'],\n ['Maresme'],\n ['Maresme'],\n ['Maresme', 'Selva'],\n ['Gironès', 'Selva'],\n ['Gironès'],\n ['Garrotxa'],\n ['Garrotxa', 'Gironès', 'Selva'],\n ['Garrotxa'],\n ['Garrotxa'],\n ['Berguedà', 'Solsonès'],\n ['Berguedà'],\n ['Berguedà'],\n ['Berguedà'],\n ['Berguedà'],\n ['Berguedà', 'Ripollès'],\n ['Berguedà'],\n ['Baix Penedès'],\n ['Baix Penedès'],\n ['Baix Llobregat', 'Vallès Occidental'],\n ['Baix Llobregat', 'Barcelonès'],\n ['Baix Llobregat'],\n ['Baix Llobregat'],\n ['Baix Empordà'],\n ['Baix Empordà'],\n ['Baix Empordà'],\n ['Baix Empordà'],\n ['Baix Ebre'],\n ['Baix Ebre', 'Terra Alta'],\n ['Baix Ebre'],\n ['Baix Camp'],\n ['Baix Camp'],\n ['Baix Camp'],\n ['Baix Camp'],\n ['Baix Camp'],\n ['Baix Camp'],\n ['Bages'],\n ['Bages'],\n ['Bages', 'Vallès Occidental'],\n ['Bages'],\n ['Bages'],\n ['Bages'],\n ['Anoia'],\n ['Anoia'],\n ['Anoia'],\n ['Anoia'],\n ['Anoia'],\n ['Anoia'],\n ['Alta Ribagorça', \"Val d'Aran\"],\n ['Alta Ribagorça'],\n ['Alta Ribagorça', \"Val d'Aran\"],\n ['Alta Ribagorça'],\n ['Alta Ribagorça', 'Pallars Jussà'],\n ['Alta Ribagorça', 'Pallars Jussà'],\n ['Alta Ribagorça', \"Val d'Aran\"],\n ['Alt Urgell'],\n ['Alt Urgell'],\n ['Alt Urgell'],\n ['Alt Urgell', 'Solsonès'],\n ['Alt Urgell', 'Cerdanya'],\n ['Alt Urgell'],\n ['Alt Urgell'],\n ['Alt Penedès', 'Baix Llobregat', 'Garraf'],\n ['Alt Penedès', 'Baix Llobregat'],\n ['Alt Penedès', 'Baix Llobregat'],\n ['Alt Empordà', 'Rosselló'],\n ['Alt Empordà'],\n ['Alt Empordà', 'Garrotxa'],\n ['Alt Empordà', 'Rosselló'],\n ['Alt Empordà'],\n ['Alt Camp'],\n ['Alt Camp'],\n ['Alt Camp', 'Conca de Barberà']]"
     },
     "execution_count": 141,
     "metadata": {},
     "output_type": "execute_result"
    }
   ],
   "source": [
    "comarques_cent_cims"
   ],
   "metadata": {
    "collapsed": false,
    "pycharm": {
     "name": "#%%\n"
    }
   }
  },
  {
   "cell_type": "markdown",
   "source": [
    "Es genera el JSON amb l'estructura definitiva (que després s'anirà ampliant)."
   ],
   "metadata": {
    "collapsed": false,
    "pycharm": {
     "name": "#%% md\n"
    }
   }
  },
  {
   "cell_type": "code",
   "execution_count": 209,
   "outputs": [],
   "source": [
    "with open(\"100cims_2.json\") as f:\n",
    "    cent_cims = json.load(f)\n",
    "cent_cims2 = []\n",
    "\n",
    "for cim in cent_cims:\n",
    "    cim2 = {\n",
    "        \"name\": cim[\"nom\"],\n",
    "        \"id\": cim[\"id\"],\n",
    "        \"coords\": {\n",
    "            \"latlng\": {\n",
    "                \"lat\": cim[\"lat\"],\n",
    "                \"lng\": cim[\"lng\"]\n",
    "            },\n",
    "            \"utm\": {\n",
    "                \"x\": cim[\"utm_x\"],\n",
    "                \"y\": cim[\"utm_y\"]\n",
    "            }\n",
    "        },\n",
    "        \"topography\": {\n",
    "            \"territory\": [{\"name\": x, \"id\": y} for x, y in zip(cim[\"territory\"], cim[\"territory_id\"])],\n",
    "            \"vegueria\": [{\"name\": x, \"id\": y} for x, y in zip(cim[\"vegueria\"], cim[\"vegueria_id\"])],\n",
    "            \"comarca\": [{\"name\": x, \"id\": y} for x, y in zip(cim[\"comarca\"], cim[\"comarca_id\"])]\n",
    "        },\n",
    "        \"essential\": cim[\"essencial\"],\n",
    "        \"url\": {\n",
    "            \"feec\": cim[\"url\"],\n",
    "            \"wikidata\": cim[\"wikidata\"]\n",
    "        },\n",
    "        \"images\": [] if cim[\"image\"] is None else [cim[\"image\"]],\n",
    "        \"height\": cim[\"altitud\"]\n",
    "    }\n",
    "    cent_cims2.append(cim2)\n",
    "\n",
    "with open(\"100cims_2.json\", \"w\") as f:\n",
    "    f.write(json.dumps(cent_cims2, ensure_ascii=False, indent=4))"
   ],
   "metadata": {
    "collapsed": false,
    "pycharm": {
     "name": "#%%\n"
    }
   }
  }
 ],
 "metadata": {
  "kernelspec": {
   "display_name": "Python 3",
   "language": "python",
   "name": "python3"
  },
  "language_info": {
   "codemirror_mode": {
    "name": "ipython",
    "version": 2
   },
   "file_extension": ".py",
   "mimetype": "text/x-python",
   "name": "python",
   "nbconvert_exporter": "python",
   "pygments_lexer": "ipython2",
   "version": "2.7.6"
  }
 },
 "nbformat": 4,
 "nbformat_minor": 0
}
